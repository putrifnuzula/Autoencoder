{
  "nbformat": 4,
  "nbformat_minor": 0,
  "metadata": {
    "colab": {
      "provenance": [],
      "machine_shape": "hm",
      "gpuType": "L4"
    },
    "kernelspec": {
      "name": "python3",
      "display_name": "Python 3"
    },
    "language_info": {
      "name": "python"
    },
    "accelerator": "GPU"
  },
  "cells": [
    {
      "cell_type": "markdown",
      "source": [
        "Nama: Putri Fatiha Nuzula\n",
        "\n",
        "NIM: 2602193042\n",
        "\n",
        "Kelas: LE09\n"
      ],
      "metadata": {
        "id": "3o7Y6jfjPXU7"
      }
    },
    {
      "cell_type": "code",
      "source": [
        "import matplotlib.pyplot as plt\n",
        "import numpy as np\n",
        "import pandas as pd\n",
        "import tensorflow as tf\n",
        "import gzip\n",
        "import os\n",
        "import shutil\n",
        "from tensorflow.keras import layers, models, Input, callbacks, metrics\n",
        "from tensorflow.keras.layers import Input, Dense, Conv2D, MaxPooling2D, UpSampling2D, Flatten, Reshape\n",
        "from skimage.metrics import structural_similarity as ssim, peak_signal_noise_ratio as psnr\n",
        "from tensorflow.keras.metrics import MeanSquaredError, RootMeanSquaredError\n",
        "from skimage.metrics import structural_similarity as ssim\n",
        "\n",
        "from sklearn.metrics import accuracy_score, precision_score, recall_score\n",
        "from sklearn.model_selection import train_test_split\n",
        "from tensorflow.keras import layers, losses"
      ],
      "metadata": {
        "id": "nnTjVjLYiDN1"
      },
      "execution_count": null,
      "outputs": []
    },
    {
      "cell_type": "code",
      "source": [
        "!unzip /content/datasetUAS.zip -d /content"
      ],
      "metadata": {
        "colab": {
          "base_uri": "https://localhost:8080/"
        },
        "id": "oLzPf-xz5UaR",
        "outputId": "c0402a34-7627-4c86-bce5-ffddff8011d8"
      },
      "execution_count": null,
      "outputs": [
        {
          "output_type": "stream",
          "name": "stdout",
          "text": [
            "Archive:  /content/datasetUAS.zip\n",
            "replace /content/t10k-images-idx3-ubyte.gz? [y]es, [n]o, [A]ll, [N]one, [r]ename: A\n",
            "  inflating: /content/t10k-images-idx3-ubyte.gz  \n",
            " extracting: /content/t10k-labels-idx1-ubyte.gz  \n",
            "  inflating: /content/train-images-idx3-ubyte.gz  \n",
            "  inflating: /content/train-labels-idx1-ubyte.gz  \n"
          ]
        }
      ]
    },
    {
      "cell_type": "markdown",
      "source": [
        "### 1.a"
      ],
      "metadata": {
        "id": "tlvgyTs56N-c"
      }
    },
    {
      "cell_type": "code",
      "source": [
        "for filename in os.listdir('.'):\n",
        "  if filename.endswith('.gz'):\n",
        "     with gzip.open(filename, 'rb') as f_in:\n",
        "       with open(filename[:-3], 'wb') as f_out:\n",
        "         shutil.copyfileobj(f_in, f_out)"
      ],
      "metadata": {
        "id": "Ii2WN-rg3qcR"
      },
      "execution_count": null,
      "outputs": []
    },
    {
      "cell_type": "code",
      "source": [
        "def read_labels(file_path):\n",
        "    with gzip.open(file_path, 'rb') as f:\n",
        "        magic, num = np.frombuffer(f.read(8), dtype='>u4')\n",
        "        labels = np.frombuffer(f.read(), dtype=np.uint8)\n",
        "    return labels\n",
        "\n",
        "def read_images(file_path):\n",
        "    with gzip.open(file_path, 'rb') as f:\n",
        "        magic, num, rows, cols = np.frombuffer(f.read(16), dtype='>u4')\n",
        "        images = np.frombuffer(f.read(), dtype=np.uint8).reshape(num, rows, cols)\n",
        "    return images\n",
        "\n",
        "def display_image(image, label):\n",
        "    plt.imshow(image, cmap='gray')\n",
        "    plt.title(f'Label: {label}')\n",
        "    plt.axis('off')\n",
        "    plt.show()\n",
        "\n",
        "#path ke dataset\n",
        "train_labels_path = 'train-labels-idx1-ubyte.gz'\n",
        "train_images_path = 'train-images-idx3-ubyte.gz'\n",
        "test_labels_path = 't10k-labels-idx1-ubyte.gz'\n",
        "test_images_path = 't10k-images-idx3-ubyte.gz'\n",
        "\n",
        "#read dataset\n",
        "train_labels = read_labels(train_labels_path)\n",
        "train_images = read_images(train_images_path)\n",
        "test_labels = read_labels(test_labels_path)\n",
        "test_images = read_images(test_images_path)\n",
        "\n",
        "#display sample dari data training\n",
        "display_image(train_images[10], train_labels[10])\n"
      ],
      "metadata": {
        "colab": {
          "base_uri": "https://localhost:8080/",
          "height": 428
        },
        "id": "VwwVaahF7iBJ",
        "outputId": "d9dfa9a6-cf88-4413-8ebc-130b03753b46"
      },
      "execution_count": null,
      "outputs": [
        {
          "output_type": "display_data",
          "data": {
            "text/plain": [
              "<Figure size 640x480 with 1 Axes>"
            ],
            "image/png": "[encoded data removed]"
          },
          "metadata": {}
        }
      ]
    },
    {
      "cell_type": "code",
      "source": [
        "#memberikan label pada setiap class pakaian\n",
        "labels = {0 : \"T-shirt/top\", 1: \"Trouser\", 2: \"Pullover\", 3: \"Dress\", 4: \"Coat\",\n",
        "          5: \"Sandal\", 6: \"Shirt\", 7: \"Sneaker\", 8: \"Bag\", 9: \"Ankle Boot\"}"
      ],
      "metadata": {
        "id": "SkUWABEAgwbg"
      },
      "execution_count": null,
      "outputs": []
    },
    {
      "cell_type": "code",
      "source": [
        "#filter hanya untuk 'Pullover' dan 'Dress'\n",
        "items = ([key for key, value in labels.items() if value == \"Pullover\"])\n",
        "items.append([key for key, value in labels.items() if value == \"Dress\"][0])\n",
        "\n",
        "x_train_items = train_images[np.isin(train_labels, items)]\n",
        "x_test_items = test_images[np.isin(test_labels, items)]\n",
        "y_train_items = train_labels[np.isin(train_labels, items)]\n",
        "y_test_items = test_labels[np.isin(test_labels, items)]\n",
        "\n",
        "#display train dan test data yang akan digunakan setelah filter\n",
        "def display_images_in_grid(images, titles, rows, cols):\n",
        "    fig, axes = plt.subplots(rows, cols, figsize=(12, 6))\n",
        "    for i, ax in enumerate(axes.flat):\n",
        "        ax.imshow(images[i], cmap='gray')\n",
        "        ax.set_title(titles[i])\n",
        "        ax.axis('off')\n",
        "    plt.tight_layout()\n",
        "    plt.show()\n",
        "\n",
        "num_images_to_display = 5\n",
        "display_images_in_grid(x_train_items[:num_images_to_display],\n",
        "                       [f'Train items {i+1}' for i in range(num_images_to_display)],\n",
        "                       1, num_images_to_display)\n",
        "\n",
        "display_images_in_grid(x_test_items[:num_images_to_display],\n",
        "                       [f'Test items {i+1}' for i in range(num_images_to_display)],\n",
        "                       1, num_images_to_display)\n",
        "\n"
      ],
      "metadata": {
        "colab": {
          "base_uri": "https://localhost:8080/",
          "height": 545
        },
        "id": "fAZd_bCEh0-b",
        "outputId": "cffcda7e-f838-4b95-ac38-ff8a3486daf2"
      },
      "execution_count": null,
      "outputs": [
        {
          "output_type": "display_data",
          "data": {
            "text/plain": [
              "<Figure size 1200x600 with 5 Axes>"
            ],
            "image/png": "[encoded data removed]"
          },
          "metadata": {}
        },
        {
          "output_type": "display_data",
          "data": {
            "text/plain": [
              "<Figure size 1200x600 with 5 Axes>"
            ],
            "image/png": "[encoded data removed]"
          },
          "metadata": {}
        }
      ]
    },
    {
      "cell_type": "code",
      "source": [
        "pullover_count = np.sum(train_labels == items[0])\n",
        "dress_count = np.sum(train_labels == items[1])\n",
        "\n",
        "#plot untuk melihat distribusi dari masing-masing kelas\n",
        "plt.figure(figsize=(8, 6))\n",
        "plt.bar(['Pullover', 'Dress'], [pullover_count, dress_count], color=['blue', 'purple'])\n",
        "plt.xlabel('Item')\n",
        "plt.ylabel('Count')\n",
        "plt.title('Count of Pullover and Dress Images in the Training Set')\n",
        "plt.show()"
      ],
      "metadata": {
        "colab": {
          "base_uri": "https://localhost:8080/",
          "height": 564
        },
        "id": "HQJ7HOjZmvE6",
        "outputId": "ae32124d-175d-4732-977e-71746ce2ec22"
      },
      "execution_count": null,
      "outputs": [
        {
          "output_type": "display_data",
          "data": {
            "text/plain": [
              "<Figure size 800x600 with 1 Axes>"
            ],
            "image/png": "[encoded data removed]"
          },
          "metadata": {}
        }
      ]
    },
    {
      "cell_type": "code",
      "source": [
        "#normalisasi data\n",
        "x_train_items = x_train_items / 255.0\n",
        "x_test_items = x_test_items / 255.0\n",
        "\n",
        "#reshape agar data dapat digunakan dengan model lstm\n",
        "x_train_items = np.reshape(x_train_items, (len(x_train_items), 28, 28, 1))\n",
        "x_test_items = np.reshape(x_test_items, (len(x_test_items), 28, 28, 1))\n",
        "\n",
        "#menggabungkan data train dan test agar dapat displit kembali\n",
        "images = np.concatenate((x_train_items, x_test_items), axis=0)\n",
        "labels = np.concatenate((y_train_items, y_test_items), axis=0)\n",
        "\n",
        "#data spliting\n",
        "x_train, x_remaining, y_train, y_remaining = train_test_split(images, labels, test_size=0.2, random_state=42)\n",
        "\n",
        "#split testing dan validation 10%\n",
        "x_val, x_test, y_val, y_test = train_test_split(x_remaining, y_remaining, test_size=0.5, random_state=42)\n",
        "\n",
        "# Print the shapes to verify\n",
        "print(f\"Training set:   {x_train.shape}\")\n",
        "print(f\"Validation set: {x_val.shape}\")\n",
        "print(f\"Test set:       {x_test.shape}\")\n"
      ],
      "metadata": {
        "colab": {
          "base_uri": "https://localhost:8080/"
        },
        "id": "nRPZ9RasRPto",
        "outputId": "42772bd5-b709-492f-ff5d-6b9f9be78552"
      },
      "execution_count": null,
      "outputs": [
        {
          "output_type": "stream",
          "name": "stdout",
          "text": [
            "Training set:   (11200, 28, 28, 1)\n",
            "Validation set: (1400, 28, 28, 1)\n",
            "Test set:       (1400, 28, 28, 1)\n"
          ]
        }
      ]
    },
    {
      "cell_type": "markdown",
      "source": [
        "### 1.b"
      ],
      "metadata": {
        "id": "WJ7asDcE6KMH"
      }
    },
    {
      "cell_type": "code",
      "source": [
        "from tensorflow.keras import layers, models, Input\n",
        "\n",
        "#base model encoder\n",
        "input_layer = Input(shape=(28, 28, 1)) #-> 784\n",
        "encode = layers.Conv2D(32, (3, 3), activation='relu', padding='same')(input_layer)\n",
        "encode = layers.MaxPooling2D((2, 2), padding='same')(encode)\n",
        "encode = layers.Conv2D(64, (3, 3), activation='relu', padding='same')(encode)\n",
        "encode = layers.MaxPooling2D((2, 2), padding='same')(encode)\n",
        "encode = layers.Conv2D(128, (3, 3), activation='relu', padding='same')(encode)\n",
        "encode = layers.Flatten()(encode)\n",
        "encoder_output = layers.Dense(128, activation='relu')(encode)  #reduksi latent menjadi 128 layer\n",
        "encoder = models.Model(input_layer, encoder_output, name=\"encoder\")\n",
        "\n",
        "\n",
        "#base model decoder\n",
        "decoder_input = layers.Input(shape=(128,))\n",
        "decode = layers.Dense(7 * 7 * 128, activation='relu')(decoder_input)\n",
        "decode = layers.Reshape((7, 7, 128))(decode)\n",
        "decode = layers.UpSampling2D((2, 2))(decode)\n",
        "decode = layers.Conv2D(64, (3, 3), activation='relu', padding='same')(decode)\n",
        "decode = layers.UpSampling2D((2, 2))(decode)\n",
        "decode = layers.Conv2D(32, (3, 3), activation='relu', padding='same')(decode)\n",
        "decoder_output = layers.Conv2D(1, (3, 3), activation='sigmoid', padding='same')(decode)\n",
        "decoder = models.Model(decoder_input, decoder_output, name=\"decoder\")\n",
        "\n",
        "#fitting autoencoder\n",
        "autoencoder_input = input_layer\n",
        "encoded_img = encoder(autoencoder_input)\n",
        "decoded_img = decoder(encoded_img)\n",
        "autoencoder = models.Model(autoencoder_input, decoded_img, name=\"autoencoder\")\n",
        "\n",
        "#compile model autoencoder\n",
        "autoencoder.compile(loss='mean_squared_error', optimizer='adam')\n",
        "\n",
        "encoder.summary()\n",
        "decoder.summary()\n",
        "autoencoder.summary()\n"
      ],
      "metadata": {
        "id": "eEMFB56z6Ise",
        "colab": {
          "base_uri": "https://localhost:8080/"
        },
        "outputId": "d94fd090-c72c-4f50-8ad9-487882505f21"
      },
      "execution_count": null,
      "outputs": [
        {
          "output_type": "stream",
          "name": "stdout",
          "text": [
            "Model: \"encoder\"\n",
            "_________________________________________________________________\n",
            " Layer (type)                Output Shape              Param #   \n",
            "=================================================================\n",
            " input_1 (InputLayer)        [(None, 28, 28, 1)]       0         \n",
            "                                                                 \n",
            " conv2d (Conv2D)             (None, 28, 28, 32)        320       \n",
            "                                                                 \n",
            " max_pooling2d (MaxPooling2  (None, 14, 14, 32)        0         \n",
            " D)                                                              \n",
            "                                                                 \n",
            " conv2d_1 (Conv2D)           (None, 14, 14, 64)        18496     \n",
            "                                                                 \n",
            " max_pooling2d_1 (MaxPoolin  (None, 7, 7, 64)          0         \n",
            " g2D)                                                            \n",
            "                                                                 \n",
            " conv2d_2 (Conv2D)           (None, 7, 7, 128)         73856     \n",
            "                                                                 \n",
            " flatten (Flatten)           (None, 6272)              0         \n",
            "                                                                 \n",
            " dense (Dense)               (None, 128)               802944    \n",
            "                                                                 \n",
            "=================================================================\n",
            "Total params: 895616 (3.42 MB)\n",
            "Trainable params: 895616 (3.42 MB)\n",
            "Non-trainable params: 0 (0.00 Byte)\n",
            "_________________________________________________________________\n",
            "Model: \"decoder\"\n",
            "_________________________________________________________________\n",
            " Layer (type)                Output Shape              Param #   \n",
            "=================================================================\n",
            " input_2 (InputLayer)        [(None, 128)]             0         \n",
            "                                                                 \n",
            " dense_1 (Dense)             (None, 6272)              809088    \n",
            "                                                                 \n",
            " reshape (Reshape)           (None, 7, 7, 128)         0         \n",
            "                                                                 \n",
            " up_sampling2d (UpSampling2  (None, 14, 14, 128)       0         \n",
            " D)                                                              \n",
            "                                                                 \n",
            " conv2d_3 (Conv2D)           (None, 14, 14, 64)        73792     \n",
            "                                                                 \n",
            " up_sampling2d_1 (UpSamplin  (None, 28, 28, 64)        0         \n",
            " g2D)                                                            \n",
            "                                                                 \n",
            " conv2d_4 (Conv2D)           (None, 28, 28, 32)        18464     \n",
            "                                                                 \n",
            " conv2d_5 (Conv2D)           (None, 28, 28, 1)         289       \n",
            "                                                                 \n",
            "=================================================================\n",
            "Total params: 901633 (3.44 MB)\n",
            "Trainable params: 901633 (3.44 MB)\n",
            "Non-trainable params: 0 (0.00 Byte)\n",
            "_________________________________________________________________\n",
            "Model: \"autoencoder\"\n",
            "_________________________________________________________________\n",
            " Layer (type)                Output Shape              Param #   \n",
            "=================================================================\n",
            " input_1 (InputLayer)        [(None, 28, 28, 1)]       0         \n",
            "                                                                 \n",
            " encoder (Functional)        (None, 128)               895616    \n",
            "                                                                 \n",
            " decoder (Functional)        (None, 28, 28, 1)         901633    \n",
            "                                                                 \n",
            "=================================================================\n",
            "Total params: 1797249 (6.86 MB)\n",
            "Trainable params: 1797249 (6.86 MB)\n",
            "Non-trainable params: 0 (0.00 Byte)\n",
            "_________________________________________________________________\n"
          ]
        }
      ]
    },
    {
      "cell_type": "code",
      "source": [
        "#fitting autoencoder\n",
        "history = autoencoder.fit(x_train, x_train, epochs=20,batch_size=64, shuffle=True,validation_data=(x_val, x_val))"
      ],
      "metadata": {
        "colab": {
          "base_uri": "https://localhost:8080/"
        },
        "id": "VXHLpM47CtO3",
        "outputId": "93eba72a-bb4c-4d64-ff2b-809b150ed066"
      },
      "execution_count": null,
      "outputs": [
        {
          "output_type": "stream",
          "name": "stdout",
          "text": [
            "Epoch 1/20\n",
            "175/175 [==============================] - 6s 8ms/step - loss: 0.0353 - val_loss: 0.0174\n",
            "Epoch 2/20\n",
            "175/175 [==============================] - 1s 5ms/step - loss: 0.0149 - val_loss: 0.0119\n",
            "Epoch 3/20\n",
            "175/175 [==============================] - 1s 5ms/step - loss: 0.0111 - val_loss: 0.0098\n",
            "Epoch 4/20\n",
            "175/175 [==============================] - 1s 5ms/step - loss: 0.0093 - val_loss: 0.0087\n",
            "Epoch 5/20\n",
            "175/175 [==============================] - 1s 5ms/step - loss: 0.0086 - val_loss: 0.0079\n",
            "Epoch 6/20\n",
            "175/175 [==============================] - 1s 5ms/step - loss: 0.0080 - val_loss: 0.0074\n",
            "Epoch 7/20\n",
            "175/175 [==============================] - 1s 5ms/step - loss: 0.0074 - val_loss: 0.0071\n",
            "Epoch 8/20\n",
            "175/175 [==============================] - 1s 5ms/step - loss: 0.0070 - val_loss: 0.0072\n",
            "Epoch 9/20\n",
            "175/175 [==============================] - 1s 5ms/step - loss: 0.0067 - val_loss: 0.0066\n",
            "Epoch 10/20\n",
            "175/175 [==============================] - 1s 5ms/step - loss: 0.0064 - val_loss: 0.0063\n",
            "Epoch 11/20\n",
            "175/175 [==============================] - 1s 5ms/step - loss: 0.0062 - val_loss: 0.0062\n",
            "Epoch 12/20\n",
            "175/175 [==============================] - 1s 5ms/step - loss: 0.0061 - val_loss: 0.0061\n",
            "Epoch 13/20\n",
            "175/175 [==============================] - 1s 5ms/step - loss: 0.0059 - val_loss: 0.0060\n",
            "Epoch 14/20\n",
            "175/175 [==============================] - 1s 5ms/step - loss: 0.0058 - val_loss: 0.0059\n",
            "Epoch 15/20\n",
            "175/175 [==============================] - 1s 5ms/step - loss: 0.0057 - val_loss: 0.0060\n",
            "Epoch 16/20\n",
            "175/175 [==============================] - 1s 5ms/step - loss: 0.0056 - val_loss: 0.0058\n",
            "Epoch 17/20\n",
            "175/175 [==============================] - 1s 5ms/step - loss: 0.0055 - val_loss: 0.0058\n",
            "Epoch 18/20\n",
            "175/175 [==============================] - 1s 5ms/step - loss: 0.0053 - val_loss: 0.0055\n",
            "Epoch 19/20\n",
            "175/175 [==============================] - 1s 5ms/step - loss: 0.0053 - val_loss: 0.0056\n",
            "Epoch 20/20\n",
            "175/175 [==============================] - 1s 5ms/step - loss: 0.0052 - val_loss: 0.0055\n"
          ]
        }
      ]
    },
    {
      "cell_type": "code",
      "source": [
        "#melakukan prediksi model autoencoder\n",
        "decoded = autoencoder.predict(x_test)"
      ],
      "metadata": {
        "colab": {
          "base_uri": "https://localhost:8080/"
        },
        "id": "F2__551Q4ax3",
        "outputId": "60dd41d0-7e49-4f66-84dd-6d2e57ee1102"
      },
      "execution_count": null,
      "outputs": [
        {
          "output_type": "stream",
          "name": "stdout",
          "text": [
            "44/44 [==============================] - 0s 5ms/step\n"
          ]
        }
      ]
    },
    {
      "cell_type": "code",
      "source": [
        "n = 10\n",
        "plt.figure(figsize=(20, 4))\n",
        "for i in range(n):\n",
        "  # display original\n",
        "  ax = plt.subplot(2, n, i + 1)\n",
        "  plt.imshow(x_test[i])\n",
        "  plt.title(\"original\")\n",
        "  plt.gray()\n",
        "  ax.get_xaxis().set_visible(False)\n",
        "  ax.get_yaxis().set_visible(False)\n",
        "\n",
        "  #menunjukan hasil dari rekonstruksi\n",
        "  ax = plt.subplot(2, n, i + 1 + n)\n",
        "  plt.imshow(decoded[i])\n",
        "  plt.title(\"reconstructed\")\n",
        "  plt.gray()\n",
        "  ax.get_xaxis().set_visible(False)\n",
        "  ax.get_yaxis().set_visible(False)\n",
        "plt.show()"
      ],
      "metadata": {
        "colab": {
          "base_uri": "https://localhost:8080/",
          "height": 324
        },
        "id": "EzFfLoYu1W9q",
        "outputId": "e82d4fd4-92e6-437b-f4d4-1bb8a37e82ad"
      },
      "execution_count": null,
      "outputs": [
        {
          "output_type": "display_data",
          "data": {
            "text/plain": [
              "<Figure size 2000x400 with 20 Axes>"
            ],
            "image/png": "[encoded data removed]"
          },
          "metadata": {}
        }
      ]
    },
    {
      "cell_type": "code",
      "source": [
        "def evaluate_ssim(model, test_data, test_labels):\n",
        "  ssim_scores = []\n",
        "  for image, _ in zip(test_data, test_labels):\n",
        "    reconstructed_image = model.predict(image.reshape((1, 28, 28, 1)))\n",
        "    ssim = SSIM()(image.reshape((28, 28)), reconstructed_image.squeeze())\n",
        "    ssim_scores.append(ssim.numpy())\n",
        "  return np.mean(ssim_scores)"
      ],
      "metadata": {
        "id": "itIwJyeHH7Fs"
      },
      "execution_count": null,
      "outputs": []
    },
    {
      "cell_type": "code",
      "source": [
        "def evaluate_ssim(model, test_data, test_labels):\n",
        "  ssim_scores = []\n",
        "  for image, _ in zip(test_data, test_labels):\n",
        "    reconstructed_image = model.predict(image.reshape((1, 28, 28, 1)))\n",
        "    ssim = SSIM()(image.reshape((28, 28)), reconstructed_image.squeeze())\n",
        "    ssim_scores.append(ssim.numpy())\n",
        "  return np.mean(ssim_scores)\n",
        "\n",
        "# Calculate SSIM\n",
        "ssim_scores = [ssim(x_test[i].reshape(28, 28), decoded[i].reshape(28, 28)) for i in range(len(x_test))]\n",
        "average_ssim = np.mean(ssim_scores)\n",
        "\n",
        "# Calculate MSE\n",
        "mse_scores = np.mean(np.square(x_test - decoded), axis=(1, 2, 3))\n",
        "average_mse = np.mean(mse_scores)\n",
        "\n",
        "# Calculate MAE\n",
        "mae_scores = np.mean(np.abs(x_test - decoded), axis=(1, 2, 3))\n",
        "average_mae = np.mean(mae_scores)\n",
        "\n",
        "print(f\"Average SSIM on test set: {average_ssim}\")\n",
        "print(f\"Average MSE on test set: {average_mse}\")\n",
        "print(f\"Average MAE on test set: {average_mae}\")"
      ],
      "metadata": {
        "colab": {
          "base_uri": "https://localhost:8080/"
        },
        "id": "l7YGDAv3IAzS",
        "outputId": "788623aa-7479-4f01-e1ef-d7a2efe6afcf"
      },
      "execution_count": null,
      "outputs": [
        {
          "output_type": "stream",
          "name": "stderr",
          "text": [
            "/usr/local/lib/python3.10/dist-packages/skimage/_shared/utils.py:348: UserWarning: Inputs have mismatched dtype.  Setting data_range based on im1.dtype.\n",
            "  return func(*args, **kwargs)\n"
          ]
        },
        {
          "output_type": "stream",
          "name": "stdout",
          "text": [
            "Average SSIM on test set: 0.8726975882816065\n",
            "Average MSE on test set: 0.00558584496002537\n",
            "Average MAE on test set: 0.036220473394448664\n"
          ]
        }
      ]
    },
    {
      "cell_type": "code",
      "source": [
        "from tensorflow.keras import layers, models, Input\n",
        "\n",
        "#modifikasi model encoder\n",
        "input_layer2 = Input(shape=(28, 28, 1))  #-> 784\n",
        "encode2 = layers.Conv2D(32, (3, 3), activation='relu', padding='same')(input_layer2)\n",
        "encode2 = layers.MaxPooling2D((2, 2), padding='same')(encode2)\n",
        "encode2 = layers.Conv2D(64, (3, 3), activation='relu', padding='same')(encode2)\n",
        "encode2 = layers.MaxPooling2D((2, 2), padding='same')(encode2)\n",
        "encode2 = layers.Conv2D(128, (3, 3), activation='relu', padding='same')(encode2)\n",
        "encode2 = layers.Flatten()(encode2)\n",
        "encoder_output2 = layers.Dense(128, activation='relu')(encode2)  #melakukan reduksi dimensi menjadi 128\n",
        "encoder2 = models.Model(input_layer2, encoder_output2, name=\"encoder2\")\n",
        "\n",
        "#modifikasi model decoder\n",
        "decoder_input2 = layers.Input(shape=(128,))\n",
        "decode2 = layers.Dense(7 * 7 * 128, activation='relu')(decoder_input2)\n",
        "decode2 = layers.Reshape((7, 7, 128))(decode2)\n",
        "decode2 = layers.Conv2DTranspose(128, (3, 3), activation='relu', padding='same')(decode2)\n",
        "decode2 = layers.UpSampling2D((2, 2))(decode2)\n",
        "decode2 = layers.Conv2DTranspose(64, (3, 3), activation='relu', padding='same')(decode2)\n",
        "decode2 = layers.Dropout(0.2)(decode2)\n",
        "decode2 = layers.UpSampling2D((2, 2))(decode2)\n",
        "\n",
        "#adjust layer final Conv2DTranspose agar sesuai dengan input\n",
        "decoder_output2 = layers.Conv2D(1, (3, 3), activation='sigmoid', padding='same')(decode2)\n",
        "decoder2 = models.Model(decoder_input2, decoder_output2, name=\"decoder2\")\n",
        "\n",
        "autoencoder_input2 = input_layer2\n",
        "encoded_img2 = encoder2(autoencoder_input2)\n",
        "decoded_img2 = decoder2(encoded_img2)\n",
        "autoencoder2 = models.Model(autoencoder_input2, decoded_img2, name=\"autoencoder2\")\n",
        "\n",
        "#compile model 2\n",
        "autoencoder2.compile(loss='mean_squared_error', optimizer='adam')\n",
        "encoder2.summary()\n",
        "decoder2.summary()\n",
        "autoencoder2.summary()"
      ],
      "metadata": {
        "colab": {
          "base_uri": "https://localhost:8080/"
        },
        "id": "A0dHlmUb-wbK",
        "outputId": "8ef836fb-8e53-4a22-c52f-c60b519cf44f"
      },
      "execution_count": null,
      "outputs": [
        {
          "output_type": "stream",
          "name": "stdout",
          "text": [
            "Model: \"encoder2\"\n",
            "_________________________________________________________________\n",
            " Layer (type)                Output Shape              Param #   \n",
            "=================================================================\n",
            " input_7 (InputLayer)        [(None, 28, 28, 1)]       0         \n",
            "                                                                 \n",
            " conv2d_14 (Conv2D)          (None, 28, 28, 32)        320       \n",
            "                                                                 \n",
            " max_pooling2d_6 (MaxPoolin  (None, 14, 14, 32)        0         \n",
            " g2D)                                                            \n",
            "                                                                 \n",
            " conv2d_15 (Conv2D)          (None, 14, 14, 64)        18496     \n",
            "                                                                 \n",
            " max_pooling2d_7 (MaxPoolin  (None, 7, 7, 64)          0         \n",
            " g2D)                                                            \n",
            "                                                                 \n",
            " conv2d_16 (Conv2D)          (None, 7, 7, 128)         73856     \n",
            "                                                                 \n",
            " flatten_3 (Flatten)         (None, 6272)              0         \n",
            "                                                                 \n",
            " dense_6 (Dense)             (None, 128)               802944    \n",
            "                                                                 \n",
            "=================================================================\n",
            "Total params: 895616 (3.42 MB)\n",
            "Trainable params: 895616 (3.42 MB)\n",
            "Non-trainable params: 0 (0.00 Byte)\n",
            "_________________________________________________________________\n",
            "Model: \"decoder2\"\n",
            "_________________________________________________________________\n",
            " Layer (type)                Output Shape              Param #   \n",
            "=================================================================\n",
            " input_8 (InputLayer)        [(None, 128)]             0         \n",
            "                                                                 \n",
            " dense_7 (Dense)             (None, 6272)              809088    \n",
            "                                                                 \n",
            " reshape_3 (Reshape)         (None, 7, 7, 128)         0         \n",
            "                                                                 \n",
            " conv2d_transpose_4 (Conv2D  (None, 7, 7, 128)         147584    \n",
            " Transpose)                                                      \n",
            "                                                                 \n",
            " up_sampling2d_6 (UpSamplin  (None, 14, 14, 128)       0         \n",
            " g2D)                                                            \n",
            "                                                                 \n",
            " conv2d_transpose_5 (Conv2D  (None, 14, 14, 64)        73792     \n",
            " Transpose)                                                      \n",
            "                                                                 \n",
            " dropout_3 (Dropout)         (None, 14, 14, 64)        0         \n",
            "                                                                 \n",
            " up_sampling2d_7 (UpSamplin  (None, 28, 28, 64)        0         \n",
            " g2D)                                                            \n",
            "                                                                 \n",
            " conv2d_17 (Conv2D)          (None, 28, 28, 1)         577       \n",
            "                                                                 \n",
            "=================================================================\n",
            "Total params: 1031041 (3.93 MB)\n",
            "Trainable params: 1031041 (3.93 MB)\n",
            "Non-trainable params: 0 (0.00 Byte)\n",
            "_________________________________________________________________\n",
            "Model: \"autoencoder2\"\n",
            "_________________________________________________________________\n",
            " Layer (type)                Output Shape              Param #   \n",
            "=================================================================\n",
            " input_7 (InputLayer)        [(None, 28, 28, 1)]       0         \n",
            "                                                                 \n",
            " encoder2 (Functional)       (None, 128)               895616    \n",
            "                                                                 \n",
            " decoder2 (Functional)       (None, 28, 28, 1)         1031041   \n",
            "                                                                 \n",
            "=================================================================\n",
            "Total params: 1926657 (7.35 MB)\n",
            "Trainable params: 1926657 (7.35 MB)\n",
            "Non-trainable params: 0 (0.00 Byte)\n",
            "_________________________________________________________________\n"
          ]
        }
      ]
    },
    {
      "cell_type": "code",
      "source": [
        "#model 2 fitting\n",
        "history2 = autoencoder2.fit(x_train, x_train, epochs=20, batch_size=64, shuffle=True, validation_data=(x_val, x_val))"
      ],
      "metadata": {
        "colab": {
          "base_uri": "https://localhost:8080/"
        },
        "id": "lqahHwEP-0fo",
        "outputId": "14bcb0b1-1eb4-4a41-8aeb-6f9dd8ccca36"
      },
      "execution_count": null,
      "outputs": [
        {
          "output_type": "stream",
          "name": "stdout",
          "text": [
            "Epoch 1/20\n",
            "175/175 [==============================] - 1s 6ms/step - loss: 0.0050 - val_loss: 0.0051\n",
            "Epoch 2/20\n",
            "175/175 [==============================] - 1s 6ms/step - loss: 0.0049 - val_loss: 0.0051\n",
            "Epoch 3/20\n",
            "175/175 [==============================] - 1s 6ms/step - loss: 0.0049 - val_loss: 0.0051\n",
            "Epoch 4/20\n",
            "175/175 [==============================] - 1s 6ms/step - loss: 0.0049 - val_loss: 0.0049\n",
            "Epoch 5/20\n",
            "175/175 [==============================] - 1s 6ms/step - loss: 0.0048 - val_loss: 0.0051\n",
            "Epoch 6/20\n",
            "175/175 [==============================] - 1s 6ms/step - loss: 0.0048 - val_loss: 0.0050\n",
            "Epoch 7/20\n",
            "175/175 [==============================] - 1s 6ms/step - loss: 0.0048 - val_loss: 0.0052\n",
            "Epoch 8/20\n",
            "175/175 [==============================] - 1s 6ms/step - loss: 0.0047 - val_loss: 0.0049\n",
            "Epoch 9/20\n",
            "175/175 [==============================] - 1s 6ms/step - loss: 0.0047 - val_loss: 0.0051\n",
            "Epoch 10/20\n",
            "175/175 [==============================] - 1s 5ms/step - loss: 0.0047 - val_loss: 0.0048\n",
            "Epoch 11/20\n",
            "175/175 [==============================] - 1s 5ms/step - loss: 0.0046 - val_loss: 0.0049\n",
            "Epoch 12/20\n",
            "175/175 [==============================] - 1s 5ms/step - loss: 0.0046 - val_loss: 0.0049\n",
            "Epoch 13/20\n",
            "175/175 [==============================] - 1s 5ms/step - loss: 0.0045 - val_loss: 0.0048\n",
            "Epoch 14/20\n",
            "175/175 [==============================] - 1s 6ms/step - loss: 0.0045 - val_loss: 0.0048\n",
            "Epoch 15/20\n",
            "175/175 [==============================] - 1s 6ms/step - loss: 0.0045 - val_loss: 0.0048\n",
            "Epoch 16/20\n",
            "175/175 [==============================] - 1s 5ms/step - loss: 0.0045 - val_loss: 0.0048\n",
            "Epoch 17/20\n",
            "175/175 [==============================] - 1s 5ms/step - loss: 0.0044 - val_loss: 0.0048\n",
            "Epoch 18/20\n",
            "175/175 [==============================] - 1s 5ms/step - loss: 0.0044 - val_loss: 0.0049\n",
            "Epoch 19/20\n",
            "175/175 [==============================] - 1s 5ms/step - loss: 0.0044 - val_loss: 0.0048\n",
            "Epoch 20/20\n",
            "175/175 [==============================] - 1s 5ms/step - loss: 0.0043 - val_loss: 0.0048\n"
          ]
        }
      ]
    },
    {
      "cell_type": "code",
      "source": [
        "#prediksi model 2\n",
        "decoded2 = autoencoder2.predict(x_test)"
      ],
      "metadata": {
        "colab": {
          "base_uri": "https://localhost:8080/"
        },
        "id": "_rJSEi1K-G62",
        "outputId": "698f4433-7bc3-4e73-cab6-a94f184ebc9c"
      },
      "execution_count": null,
      "outputs": [
        {
          "output_type": "stream",
          "name": "stdout",
          "text": [
            "44/44 [==============================] - 0s 2ms/step\n"
          ]
        }
      ]
    },
    {
      "cell_type": "code",
      "source": [
        "import numpy as np\n",
        "from skimage.metrics import structural_similarity as ssim\n",
        "from tensorflow.image import ssim as tf_ssim\n",
        "\n",
        "def evaluate_ssim2(model, test_data, test_labels):\n",
        "    ssim_scores2 = []\n",
        "    for image, _ in zip(test_data, test_labels):\n",
        "        reconstructed_image = model.predict(image.reshape((1, 28, 28, 1)))\n",
        "        ssim = tf_ssim(image.reshape((1, 28, 28, 1)), reconstructed_image, max_val=1.0)\n",
        "        ssim_scores2.append(ssim.numpy())\n",
        "    return np.mean(ssim_scores2)\n",
        "\n",
        "decoded2 = autoencoder2.predict(x_test)\n",
        "\n",
        "#kalkulasi nilai SSIM\n",
        "ssim_scores2 = [ssim(x_test[i].reshape(28, 28), decoded2[i].reshape(28, 28)) for i in range(len(x_test))]\n",
        "average_ssim2 = np.mean(ssim_scores2)\n",
        "\n",
        "# MSE\n",
        "mse_scores2 = np.mean(np.square(x_test - decoded2), axis=(1, 2, 3))\n",
        "average_mse2 = np.mean(mse_scores2)\n",
        "\n",
        "# MAE\n",
        "mae_scores2 = np.mean(np.abs(x_test - decoded2), axis=(1, 2, 3))\n",
        "average_mae2 = np.mean(mae_scores2)\n",
        "\n",
        "print(\"Modified Model:\")\n",
        "print(f\"Average SSIM on test set: {average_ssim2}\")\n",
        "print(f\"Average MSE on test set: {average_mse2}\")\n",
        "print(f\"Average MAE on test set: {average_mae2}\")\n"
      ],
      "metadata": {
        "colab": {
          "base_uri": "https://localhost:8080/"
        },
        "id": "sWclhAmXAqIP",
        "outputId": "f03bbe30-11e5-49e0-8d2a-f47b7cabf8d0"
      },
      "execution_count": null,
      "outputs": [
        {
          "output_type": "stream",
          "name": "stdout",
          "text": [
            "44/44 [==============================] - 0s 2ms/step\n",
            "Modified Model:\n",
            "Average SSIM on test set: 0.8904163165448437\n",
            "Average MSE on test set: 0.004931056784533819\n",
            "Average MAE on test set: 0.033827619848100864\n"
          ]
        }
      ]
    },
    {
      "cell_type": "markdown",
      "source": [
        "Kesimpulan:\n",
        "\n",
        "model 1:\n",
        "\n",
        "SSIM: 0.8726975882816065\n",
        "\n",
        "MSE: 0.00558584496002537\n",
        "\n",
        "MAE: 0.036220473394448664\n",
        "\n",
        "\n",
        "\n",
        "model 2:\n",
        "\n",
        "SSIM: 0.8904163165448437\n",
        "\n",
        "MSE: 0.004931056784533819\n",
        "\n",
        "MAE: 0.033827619848100864\n",
        "\n",
        "\n",
        "1. SSIM -> mengukur apakah secara struktural gambar yang dihasilkan mirip dengan yang sebenarnya.\n",
        "2. MSE -> mengukur rata-rata kuadrat dari nilai piksel dari gambar rekonstruksi dengan yang asli.\n",
        "3. MAE -> mengukur rata-rata absolut dari nilai piksel dari gambar rekonstruksi dengan yang asli.\n",
        "\n",
        "-> secara konsisten model 2 menunjukan performa yang lebih baik hal tersebut ditunjukan oleh metrics di atas, di mana secara intensitas gambar dan strukturnya (SSID) memimiliki nilai yang lebih rendah."
      ],
      "metadata": {
        "id": "qK8q4Jl9Wcmg"
      }
    },
    {
      "cell_type": "code",
      "source": [],
      "metadata": {
        "id": "DHltrudEA5LG"
      },
      "execution_count": null,
      "outputs": []
    }
  ]
}